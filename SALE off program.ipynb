{
 "cells": [
  {
   "cell_type": "code",
   "execution_count": 1,
   "metadata": {},
   "outputs": [
    {
     "name": "stdout",
     "output_type": "stream",
     "text": [
      "100 200 150 30 20\n",
      "288\n"
     ]
    }
   ],
   "source": [
    "# a program for a sale: %25 off for over 100, %50 off over 200 and $50 off over 300 of total price\n",
    "\n",
    "prices = list(map(float, input().strip().split()))\n",
    "#prices = prices.split()\n",
    "price1 = 0\n",
    "price2 = 0\n",
    "price3 = 0\n",
    "for price in prices:\n",
    "#    price = int(price)\n",
    "    if price >= 200:\n",
    "        price2 += price\n",
    "    elif price >= 100:\n",
    "        price1 += price\n",
    "    else:\n",
    "        price3 += price\n",
    "final_price = price1*0.75 + price2*0.5 + price3\n",
    "if final_price >=300:\n",
    "    print (int(round(final_price - 50)))\n",
    "else:    \n",
    "    print (int(round(final_price)))"
   ]
  },
  {
   "cell_type": "code",
   "execution_count": null,
   "metadata": {},
   "outputs": [],
   "source": []
  },
  {
   "cell_type": "markdown",
   "metadata": {},
   "source": [
    "## "
   ]
  }
 ],
 "metadata": {
  "kernelspec": {
   "display_name": "Python 3",
   "language": "python",
   "name": "python3"
  },
  "language_info": {
   "codemirror_mode": {
    "name": "ipython",
    "version": 3
   },
   "file_extension": ".py",
   "mimetype": "text/x-python",
   "name": "python",
   "nbconvert_exporter": "python",
   "pygments_lexer": "ipython3",
   "version": "3.7.1"
  }
 },
 "nbformat": 4,
 "nbformat_minor": 2
}
