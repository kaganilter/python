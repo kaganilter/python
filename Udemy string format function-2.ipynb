{
 "cells": [
  {
   "cell_type": "code",
   "execution_count": 4,
   "metadata": {},
   "outputs": [
    {
     "name": "stdout",
     "output_type": "stream",
     "text": [
      "o\n",
      "hell\n"
     ]
    }
   ],
   "source": [
    "mystring=(\"hello kagan\")\n",
    "print(mystring[4])\n",
    "print(mystring[:4])"
   ]
  },
  {
   "cell_type": "code",
   "execution_count": 5,
   "metadata": {},
   "outputs": [
    {
     "name": "stdout",
     "output_type": "stream",
     "text": [
      "hlka\n"
     ]
    }
   ],
   "source": [
    "print(mystring[::3])"
   ]
  },
  {
   "cell_type": "raw",
   "metadata": {},
   "source": [
    "you can print the letters whichever order you want with adding step sizes"
   ]
  },
  {
   "cell_type": "markdown",
   "metadata": {},
   "source": [
    "# Lets learn diiferent dimensions of strings"
   ]
  },
  {
   "cell_type": "markdown",
   "metadata": {},
   "source": [
    "you can also reverse print the letters of strings"
   ]
  },
  {
   "cell_type": "code",
   "execution_count": 6,
   "metadata": {},
   "outputs": [
    {
     "name": "stdout",
     "output_type": "stream",
     "text": [
      "nagak olleh\n"
     ]
    }
   ],
   "source": [
    "print(mystring[::-1])"
   ]
  },
  {
   "cell_type": "markdown",
   "metadata": {},
   "source": [
    "you can also add strings with + sign"
   ]
  },
  {
   "cell_type": "code",
   "execution_count": 8,
   "metadata": {},
   "outputs": [
    {
     "data": {
      "text/plain": [
       "'hello kagan how are u'"
      ]
     },
     "execution_count": 8,
     "metadata": {},
     "output_type": "execute_result"
    }
   ],
   "source": [
    "mystring + \" how are u\""
   ]
  },
  {
   "cell_type": "markdown",
   "metadata": {},
   "source": [
    "lets upper case the letters"
   ]
  },
  {
   "cell_type": "code",
   "execution_count": 9,
   "metadata": {},
   "outputs": [
    {
     "data": {
      "text/plain": [
       "'HELLO KAGAN'"
      ]
     },
     "execution_count": 9,
     "metadata": {},
     "output_type": "execute_result"
    }
   ],
   "source": [
    "mystring.upper()"
   ]
  },
  {
   "cell_type": "code",
   "execution_count": 10,
   "metadata": {},
   "outputs": [],
   "source": [
    "#we need to reassign this if we want to change the original letter\n",
    "mystring2=mystring.upper()"
   ]
  },
  {
   "cell_type": "code",
   "execution_count": 11,
   "metadata": {},
   "outputs": [
    {
     "name": "stdout",
     "output_type": "stream",
     "text": [
      "HELLO KAGAN\n"
     ]
    }
   ],
   "source": [
    "print(mystring2)"
   ]
  },
  {
   "cell_type": "markdown",
   "metadata": {},
   "source": [
    "Formatting the Strings"
   ]
  },
  {
   "cell_type": "code",
   "execution_count": 16,
   "metadata": {},
   "outputs": [
    {
     "name": "stdout",
     "output_type": "stream",
     "text": [
      "my 3 names are kagan hakan john\n"
     ]
    }
   ],
   "source": [
    "print('my 3 names are {0} {1} {2}' .format('kagan','hakan','john'))"
   ]
  },
  {
   "cell_type": "code",
   "execution_count": 17,
   "metadata": {},
   "outputs": [
    {
     "name": "stdout",
     "output_type": "stream",
     "text": [
      "my names are kagan hakan john\n"
     ]
    }
   ],
   "source": [
    "#what you write between {} will be listed with the .format function according to index number\n",
    "#or you can write the name of the variable between {}, rather than the string numbers\n",
    "\n",
    "print('my names are {a} {b} {c}'.format(a='kagan', b= 'hakan', c='john'))"
   ]
  },
  {
   "cell_type": "code",
   "execution_count": 29,
   "metadata": {},
   "outputs": [
    {
     "name": "stdout",
     "output_type": "stream",
     "text": [
      "1.7142857142857142\n",
      "the result is: 1.7142857142857142\n"
     ]
    }
   ],
   "source": [
    "#using print function with format will help to show the output clearly\n",
    "result= 12/7\n",
    "print(result)\n",
    "print(\"the result is: {r}\".format(r=result) )"
   ]
  },
  {
   "cell_type": "code",
   "execution_count": 30,
   "metadata": {},
   "outputs": [
    {
     "name": "stdout",
     "output_type": "stream",
     "text": [
      "the result is:    1.714\n"
     ]
    }
   ],
   "source": [
    "#with {}, it is easy to select the width of the number, and the precision value {value:width.precision f}\n",
    "print('the result is: {r:8.3f}'.format (r=result))"
   ]
  },
  {
   "cell_type": "code",
   "execution_count": 33,
   "metadata": {},
   "outputs": [
    {
     "name": "stdout",
     "output_type": "stream",
     "text": [
      "Hello, my name is John\n"
     ]
    }
   ],
   "source": [
    "#you can also do the same thing with 'f' string at the begining, format the string with f at the begining\n",
    "\n",
    "name='John'\n",
    "print(f'Hello, my name is {name}')\n",
    "    "
   ]
  },
  {
   "cell_type": "code",
   "execution_count": 39,
   "metadata": {},
   "outputs": [
    {
     "name": "stdout",
     "output_type": "stream",
     "text": [
      "the result is:  1.71\n"
     ]
    }
   ],
   "source": [
    "result=12/7\n",
    "print(f'the result is: {result:5.2f}')"
   ]
  },
  {
   "cell_type": "code",
   "execution_count": 42,
   "metadata": {},
   "outputs": [
    {
     "name": "stdout",
     "output_type": "stream",
     "text": [
      "sam is 4 years old\n"
     ]
    }
   ],
   "source": [
    "name= 'sam'\n",
    "age=4\n",
    "print(f'{name} is {age} years old')"
   ]
  },
  {
   "cell_type": "code",
   "execution_count": null,
   "metadata": {},
   "outputs": [],
   "source": []
  }
 ],
 "metadata": {
  "kernelspec": {
   "display_name": "Python 3",
   "language": "python",
   "name": "python3"
  },
  "language_info": {
   "codemirror_mode": {
    "name": "ipython",
    "version": 3
   },
   "file_extension": ".py",
   "mimetype": "text/x-python",
   "name": "python",
   "nbconvert_exporter": "python",
   "pygments_lexer": "ipython3",
   "version": "3.7.1"
  }
 },
 "nbformat": 4,
 "nbformat_minor": 2
}
