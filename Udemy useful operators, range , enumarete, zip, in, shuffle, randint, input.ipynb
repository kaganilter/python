{
 "cells": [
  {
   "cell_type": "code",
   "execution_count": 1,
   "metadata": {},
   "outputs": [],
   "source": [
    "a=[4,3,4,5,6,7,8,9,9,0]\n",
    "for num in range(0,7):\n",
    "    print(a)\n"
   ]
  },
  {
   "cell_type": "code",
   "execution_count": 2,
   "metadata": {},
   "outputs": [],
   "source": [
    "# range can be arranged with a third character giving the step size\n",
    "list(range(0,11,2))"
   ]
  },
  {
   "cell_type": "code",
   "execution_count": 3,
   "metadata": {},
   "outputs": [],
   "source": [
    "# range is a generator, so it does not have an output directly, we can make the results as lists, tuples etc.\n",
    "tuple(range(0,11,1))"
   ]
  },
  {
   "cell_type": "code",
   "execution_count": 4,
   "metadata": {},
   "outputs": [
    {
     "name": "stdout",
     "output_type": "stream",
     "text": [
      "at index 0 the letter is h\n",
      "at index 1 the letter is e\n",
      "at index 2 the letter is l\n",
      "at index 3 the letter is l\n",
      "at index 4 the letter is o\n",
      "at index 5 the letter is w\n",
      "at index 6 the letter is o\n",
      "at index 7 the letter is r\n",
      "at index 8 the letter is l\n",
      "at index 9 the letter is d\n"
     ]
    }
   ],
   "source": [
    "# lets do a letter index writer\n",
    "\n",
    "index_counter = 0\n",
    "for letters in 'helloworld':\n",
    "    print('at index {} the letter is {}'.format(index_counter,letters))\n",
    "    index_counter +=1"
   ]
  },
  {
   "cell_type": "code",
   "execution_count": 5,
   "metadata": {},
   "outputs": [
    {
     "name": "stdout",
     "output_type": "stream",
     "text": [
      "at index 0 the letter is E\n",
      "at index 1 the letter is a\n",
      "at index 2 the letter is r\n",
      "at index 3 the letter is l\n",
      "at index 4 the letter is y\n",
      "at index 5 the letter is  \n",
      "at index 6 the letter is T\n",
      "at index 7 the letter is o\n",
      "at index 8 the letter is p\n",
      "at index 9 the letter is  \n",
      "at index 10 the letter is C\n",
      "at index 11 the letter is o\n",
      "at index 12 the letter is n\n",
      "at index 13 the letter is t\n",
      "at index 14 the letter is e\n",
      "at index 15 the letter is n\n",
      "at index 16 the letter is d\n",
      "at index 17 the letter is e\n",
      "at index 18 the letter is r\n",
      "at index 19 the letter is s\n",
      "at index 20 the letter is  \n",
      "at index 21 the letter is f\n",
      "at index 22 the letter is o\n",
      "at index 23 the letter is r\n",
      "at index 24 the letter is  \n",
      "at index 25 the letter is N\n",
      "at index 26 the letter is e\n",
      "at index 27 the letter is x\n",
      "at index 28 the letter is t\n",
      "at index 29 the letter is  \n",
      "at index 30 the letter is Y\n",
      "at index 31 the letter is e\n",
      "at index 32 the letter is a\n",
      "at index 33 the letter is r\n",
      "at index 34 the letter is '\n",
      "at index 35 the letter is s\n",
      "at index 36 the letter is  \n",
      "at index 37 the letter is S\n",
      "at index 38 the letter is u\n",
      "at index 39 the letter is p\n",
      "at index 40 the letter is e\n",
      "at index 41 the letter is r\n",
      "at index 42 the letter is  \n",
      "at index 43 the letter is B\n",
      "at index 44 the letter is o\n",
      "at index 45 the letter is w\n",
      "at index 46 the letter is l\n"
     ]
    }
   ],
   "source": [
    "#lets copy and paste a paragraph and do the index counter, you can also do it uploading from a file\n",
    "index_counter = 0\n",
    "for letters in \"Early Top Contenders for Next Year's Super Bowl\":\n",
    "    print('at index {} the letter is {}'.format(index_counter,letters))\n",
    "    index_counter +=1\n"
   ]
  },
  {
   "cell_type": "code",
   "execution_count": 6,
   "metadata": {},
   "outputs": [
    {
     "name": "stdout",
     "output_type": "stream",
     "text": [
      "(0, 'h')\n",
      "(1, 'e')\n",
      "(2, 'l')\n",
      "(3, 'l')\n",
      "(4, 'o')\n",
      "(5, 'w')\n",
      "(6, 'o')\n",
      "(7, 'r')\n",
      "(8, 'l')\n",
      "(9, 'd')\n",
      "<class 'tuple'>\n"
     ]
    }
   ],
   "source": [
    "# for this index xount python has enumerate function, creates an index list in tuples format\n",
    "\n",
    "word='helloworld'\n",
    "for letter in enumerate(word):\n",
    "    print(letter)\n",
    "print(type(letter))"
   ]
  },
  {
   "cell_type": "code",
   "execution_count": 7,
   "metadata": {},
   "outputs": [
    {
     "name": "stdout",
     "output_type": "stream",
     "text": [
      "(1, 'q')\n",
      "(2, 'w')\n",
      "(3, 'e')\n",
      "(4, 'r')\n",
      "(5, 't')\n"
     ]
    }
   ],
   "source": [
    "#zip function zips and combines lists in an order, giving the output in tuples format\n",
    "list1=[1,2,3,4,5]\n",
    "list2=['q','w','e','r','t']\n",
    "for item in zip(list1,list2):\n",
    "    print(item)"
   ]
  },
  {
   "cell_type": "code",
   "execution_count": 8,
   "metadata": {},
   "outputs": [
    {
     "name": "stdout",
     "output_type": "stream",
     "text": [
      "(1, 'q', 2)\n",
      "(2, 'w', 3)\n",
      "(3, 'e', 4)\n",
      "(4, 'r', 5)\n",
      "(5, 't', 6)\n"
     ]
    }
   ],
   "source": [
    "# you can zip more than 2 lists. if the lists are uneven, zip does the shortest one\n",
    "list1=[1,2,3,4,5]\n",
    "list2=['q','w','e','r','t']\n",
    "list3=[2,3,4,5,6,7,8,9,0]\n",
    "for item in zip(list1,list2,list3):\n",
    "    print(item)"
   ]
  },
  {
   "cell_type": "code",
   "execution_count": 9,
   "metadata": {},
   "outputs": [
    {
     "name": "stdout",
     "output_type": "stream",
     "text": [
      "q 2\n",
      "w 3\n",
      "e 4\n",
      "r 5\n",
      "t 6\n"
     ]
    }
   ],
   "source": [
    "# you can split the output of the zip\n",
    "# you can zip more than 2 lists. if the lists are uneven, zip does the shortest one\n",
    "list1=[1,2,3,4,5]\n",
    "list2=['q','w','e','r','t']\n",
    "list3=[2,3,4,5,6,7,8,9,0]\n",
    "for a,b,c in zip(list1,list2,list3):\n",
    "    print(b,c)"
   ]
  },
  {
   "cell_type": "code",
   "execution_count": 10,
   "metadata": {},
   "outputs": [
    {
     "data": {
      "text/plain": [
       "True"
      ]
     },
     "execution_count": 10,
     "metadata": {},
     "output_type": "execute_result"
    }
   ],
   "source": [
    "# \"in\" keyword output is a boolean an controls the item in a list or dictionary\n",
    "\n",
    "2 in list1"
   ]
  },
  {
   "cell_type": "code",
   "execution_count": 11,
   "metadata": {},
   "outputs": [
    {
     "data": {
      "text/plain": [
       "False"
      ]
     },
     "execution_count": 11,
     "metadata": {},
     "output_type": "execute_result"
    }
   ],
   "source": [
    "'f' in list2"
   ]
  },
  {
   "cell_type": "code",
   "execution_count": 12,
   "metadata": {},
   "outputs": [
    {
     "data": {
      "text/plain": [
       "True"
      ]
     },
     "execution_count": 12,
     "metadata": {},
     "output_type": "execute_result"
    }
   ],
   "source": [
    "d={'sample':3, 'saple2':5}\n",
    "'sample' in d"
   ]
  },
  {
   "cell_type": "code",
   "execution_count": 13,
   "metadata": {},
   "outputs": [
    {
     "data": {
      "text/plain": [
       "False"
      ]
     },
     "execution_count": 13,
     "metadata": {},
     "output_type": "execute_result"
    }
   ],
   "source": [
    "5 in d.keys()"
   ]
  },
  {
   "cell_type": "code",
   "execution_count": 14,
   "metadata": {},
   "outputs": [
    {
     "data": {
      "text/plain": [
       "True"
      ]
     },
     "execution_count": 14,
     "metadata": {},
     "output_type": "execute_result"
    }
   ],
   "source": [
    "5 in d.values()"
   ]
  },
  {
   "cell_type": "code",
   "execution_count": 15,
   "metadata": {},
   "outputs": [
    {
     "data": {
      "text/plain": [
       "5"
      ]
     },
     "execution_count": 15,
     "metadata": {},
     "output_type": "execute_result"
    }
   ],
   "source": [
    "#min and max functions are very useful also\n",
    "max(list1)"
   ]
  },
  {
   "cell_type": "code",
   "execution_count": 16,
   "metadata": {},
   "outputs": [
    {
     "data": {
      "text/plain": [
       "1"
      ]
     },
     "execution_count": 16,
     "metadata": {},
     "output_type": "execute_result"
    }
   ],
   "source": [
    "min(list1)"
   ]
  },
  {
   "cell_type": "code",
   "execution_count": 17,
   "metadata": {},
   "outputs": [],
   "source": [
    "\n",
    "#you can import dictionaries and functions from your libraries.if you press tab, you can see the functions in random dictionary\n",
    "from random import shuffle \n"
   ]
  },
  {
   "cell_type": "code",
   "execution_count": 18,
   "metadata": {},
   "outputs": [],
   "source": [
    "list1=[0,1,2,3,4,5,6]\n",
    "shuffle(list1)"
   ]
  },
  {
   "cell_type": "code",
   "execution_count": 19,
   "metadata": {},
   "outputs": [
    {
     "data": {
      "text/plain": [
       "[5, 3, 4, 6, 0, 1, 2]"
      ]
     },
     "execution_count": 19,
     "metadata": {},
     "output_type": "execute_result"
    }
   ],
   "source": [
    "list1"
   ]
  },
  {
   "cell_type": "code",
   "execution_count": 20,
   "metadata": {},
   "outputs": [],
   "source": [
    "shuffle(list1)"
   ]
  },
  {
   "cell_type": "code",
   "execution_count": 21,
   "metadata": {},
   "outputs": [
    {
     "data": {
      "text/plain": [
       "[2, 0, 3, 1, 4, 6, 5]"
      ]
     },
     "execution_count": 21,
     "metadata": {},
     "output_type": "execute_result"
    }
   ],
   "source": [
    "list1"
   ]
  },
  {
   "cell_type": "code",
   "execution_count": 22,
   "metadata": {},
   "outputs": [
    {
     "data": {
      "text/plain": [
       "[2, 0, 3, 1, 4, 6, 5]"
      ]
     },
     "execution_count": 22,
     "metadata": {},
     "output_type": "execute_result"
    }
   ],
   "source": [
    "list1"
   ]
  },
  {
   "cell_type": "code",
   "execution_count": 23,
   "metadata": {},
   "outputs": [],
   "source": [
    "# for grabing a random integer between teo integers you can use randint()\n",
    "from random import randint"
   ]
  },
  {
   "cell_type": "code",
   "execution_count": 24,
   "metadata": {},
   "outputs": [
    {
     "data": {
      "text/plain": [
       "268"
      ]
     },
     "execution_count": 24,
     "metadata": {},
     "output_type": "execute_result"
    }
   ],
   "source": [
    "randint(-5,1000)"
   ]
  },
  {
   "cell_type": "code",
   "execution_count": 25,
   "metadata": {},
   "outputs": [
    {
     "data": {
      "text/plain": [
       "1"
      ]
     },
     "execution_count": 25,
     "metadata": {},
     "output_type": "execute_result"
    }
   ],
   "source": [
    "randint(0,5)"
   ]
  },
  {
   "cell_type": "code",
   "execution_count": 26,
   "metadata": {},
   "outputs": [
    {
     "name": "stdout",
     "output_type": "stream",
     "text": [
      "whats your name? kagan\n"
     ]
    }
   ],
   "source": [
    "#input function creates a box for you to write a variable. always accepts the string in it\n",
    "#dont forget to hit the enter after writing in the box\n",
    "a=input('whats your name? ')"
   ]
  },
  {
   "cell_type": "code",
   "execution_count": 27,
   "metadata": {},
   "outputs": [
    {
     "name": "stdout",
     "output_type": "stream",
     "text": [
      "kagan\n"
     ]
    }
   ],
   "source": [
    "print(a)"
   ]
  },
  {
   "cell_type": "code",
   "execution_count": 29,
   "metadata": {},
   "outputs": [
    {
     "data": {
      "text/plain": [
       "str"
      ]
     },
     "execution_count": 29,
     "metadata": {},
     "output_type": "execute_result"
    }
   ],
   "source": [
    "type(a)"
   ]
  },
  {
   "cell_type": "code",
   "execution_count": 30,
   "metadata": {},
   "outputs": [
    {
     "name": "stdout",
     "output_type": "stream",
     "text": [
      "how old are you?33\n"
     ]
    }
   ],
   "source": [
    "#you can change the type of the result by float(), int(), str() functions\n",
    "\n",
    "a=input('how old are you?')"
   ]
  },
  {
   "cell_type": "code",
   "execution_count": 31,
   "metadata": {},
   "outputs": [
    {
     "data": {
      "text/plain": [
       "33.0"
      ]
     },
     "execution_count": 31,
     "metadata": {},
     "output_type": "execute_result"
    }
   ],
   "source": [
    "float(a)"
   ]
  },
  {
   "cell_type": "code",
   "execution_count": 32,
   "metadata": {},
   "outputs": [
    {
     "data": {
      "text/plain": [
       "'33'"
      ]
     },
     "execution_count": 32,
     "metadata": {},
     "output_type": "execute_result"
    }
   ],
   "source": [
    "str(a)"
   ]
  },
  {
   "cell_type": "code",
   "execution_count": 33,
   "metadata": {},
   "outputs": [
    {
     "data": {
      "text/plain": [
       "33"
      ]
     },
     "execution_count": 33,
     "metadata": {},
     "output_type": "execute_result"
    }
   ],
   "source": [
    "int(a)"
   ]
  },
  {
   "cell_type": "code",
   "execution_count": 34,
   "metadata": {},
   "outputs": [
    {
     "data": {
      "text/plain": [
       "str"
      ]
     },
     "execution_count": 34,
     "metadata": {},
     "output_type": "execute_result"
    }
   ],
   "source": [
    "type(a)"
   ]
  },
  {
   "cell_type": "code",
   "execution_count": 35,
   "metadata": {},
   "outputs": [],
   "source": [
    "a=float(a)"
   ]
  },
  {
   "cell_type": "code",
   "execution_count": 36,
   "metadata": {},
   "outputs": [
    {
     "data": {
      "text/plain": [
       "float"
      ]
     },
     "execution_count": 36,
     "metadata": {},
     "output_type": "execute_result"
    }
   ],
   "source": [
    "type(a)"
   ]
  },
  {
   "cell_type": "code",
   "execution_count": null,
   "metadata": {},
   "outputs": [],
   "source": []
  }
 ],
 "metadata": {
  "kernelspec": {
   "display_name": "Python 3",
   "language": "python",
   "name": "python3"
  },
  "language_info": {
   "codemirror_mode": {
    "name": "ipython",
    "version": 3
   },
   "file_extension": ".py",
   "mimetype": "text/x-python",
   "name": "python",
   "nbconvert_exporter": "python",
   "pygments_lexer": "ipython3",
   "version": "3.7.1"
  }
 },
 "nbformat": 4,
 "nbformat_minor": 2
}
