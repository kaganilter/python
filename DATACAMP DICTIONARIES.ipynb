{
 "cells": [
  {
   "cell_type": "code",
   "execution_count": 1,
   "metadata": {},
   "outputs": [
    {
     "name": "stdout",
     "output_type": "stream",
     "text": [
      "dict_keys(['spain', 'france', 'turkey'])\n",
      "dict_values(['madrid', 'paris', 'ankara'])\n"
     ]
    }
   ],
   "source": [
    "# to see the keys and values in a dictionary,\n",
    "\n",
    "k={'spain':'madrid','france':'paris','turkey':'ankara'}\n",
    "print(k.keys())\n",
    "print(k.values())"
   ]
  },
  {
   "cell_type": "code",
   "execution_count": null,
   "metadata": {},
   "outputs": [],
   "source": [
    "# keys of a dicitionary are immutable, unlike the elements of a list\n"
   ]
  },
  {
   "cell_type": "code",
   "execution_count": 2,
   "metadata": {},
   "outputs": [
    {
     "name": "stdout",
     "output_type": "stream",
     "text": [
      "True\n"
     ]
    }
   ],
   "source": [
    "# adding a new key-value pair\n",
    "\n",
    "k['usa']='washington'\n",
    "\n",
    "# to test if it has been added\n",
    "\n",
    "print('usa' in k)"
   ]
  },
  {
   "cell_type": "code",
   "execution_count": 3,
   "metadata": {},
   "outputs": [
    {
     "name": "stdout",
     "output_type": "stream",
     "text": [
      "{'spain': 'madrid', 'france': 'paris', 'turkey': 'ankara', 'usa': 'washington'}\n"
     ]
    }
   ],
   "source": [
    "print(k)"
   ]
  },
  {
   "cell_type": "markdown",
   "metadata": {},
   "source": [
    "DICT MANIPULATION"
   ]
  },
  {
   "cell_type": "code",
   "execution_count": 4,
   "metadata": {},
   "outputs": [
    {
     "name": "stdout",
     "output_type": "stream",
     "text": [
      "{'spain': 'moscow', 'france': 'paris', 'turkey': 'ankara', 'usa': 'washington'}\n"
     ]
    }
   ],
   "source": [
    "#to change a key\n",
    "k['spain']='moscow'\n",
    "print(k)"
   ]
  },
  {
   "cell_type": "code",
   "execution_count": 7,
   "metadata": {},
   "outputs": [
    {
     "name": "stdout",
     "output_type": "stream",
     "text": [
      "{'france': 'paris', 'turkey': 'ankara', 'usa': 'washington'}\n"
     ]
    }
   ],
   "source": [
    "#to delete a key pair\n",
    "\n",
    "k.pop('spain',None)\n",
    "print(k)"
   ]
  }
 ],
 "metadata": {
  "kernelspec": {
   "display_name": "Python 3",
   "language": "python",
   "name": "python3"
  },
  "language_info": {
   "codemirror_mode": {
    "name": "ipython",
    "version": 3
   },
   "file_extension": ".py",
   "mimetype": "text/x-python",
   "name": "python",
   "nbconvert_exporter": "python",
   "pygments_lexer": "ipython3",
   "version": "3.7.1"
  }
 },
 "nbformat": 4,
 "nbformat_minor": 2
}
