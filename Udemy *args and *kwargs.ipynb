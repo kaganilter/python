{
 "cells": [
  {
   "cell_type": "markdown",
   "metadata": {},
   "source": [
    "argumnets and keyword arguments\n",
    "*args returns back as tuple, so you can choose as many variable as you can\n",
    "**kwargs returns back as dictionary\n",
    "functions generally work with 2-5 variables, in order to solve this problem, python uses args and kwargs"
   ]
  },
  {
   "cell_type": "code",
   "execution_count": 2,
   "metadata": {},
   "outputs": [
    {
     "name": "stdout",
     "output_type": "stream",
     "text": [
      "my favorite fruit is apple\n"
     ]
    }
   ],
   "source": [
    "# lets define a fuction for a grocery market, for kwargs\n",
    "\n",
    "def grocery_choice (**kwargs):\n",
    "    if 'fruit' in kwargs:\n",
    "        print (f\"my favorite fruit is {kwargs['fruit']}\")\n",
    "    else:\n",
    "        print('i dont like fruits')\n",
    "grocery_choice (fruit='apple')\n",
    "    "
   ]
  },
  {
   "cell_type": "code",
   "execution_count": 4,
   "metadata": {},
   "outputs": [
    {
     "name": "stdout",
     "output_type": "stream",
     "text": [
      "i dont like fruits\n"
     ]
    }
   ],
   "source": [
    "grocery_choice()"
   ]
  },
  {
   "cell_type": "code",
   "execution_count": 14,
   "metadata": {},
   "outputs": [],
   "source": [
    "# using args and kwargs together, args have to be written before kwargs\n",
    "# it is important to write first arguments and than keyword arguments\n",
    "def restaurantfunc(*args,**kwargs):\n",
    "    print('I would like {} {}s'.format(args[2],kwargs['food']))\n",
    "    print (args)\n",
    "    print(kwargs)\n",
    "\n"
   ]
  },
  {
   "cell_type": "code",
   "execution_count": 16,
   "metadata": {},
   "outputs": [
    {
     "name": "stdout",
     "output_type": "stream",
     "text": [
      "I would like 5 breads\n",
      "(3, 4, 5)\n",
      "{'food': 'bread', 'juice': 'orange'}\n"
     ]
    }
   ],
   "source": [
    "restaurantfunc(3,4,5,food='bread',juice='orange')"
   ]
  },
  {
   "cell_type": "markdown",
   "metadata": {},
   "source": [
    "This would be helpful when you are using outside libraries, dont need to define all the variables, arbitrary numbers of arguments"
   ]
  }
 ],
 "metadata": {
  "kernelspec": {
   "display_name": "Python 3",
   "language": "python",
   "name": "python3"
  },
  "language_info": {
   "codemirror_mode": {
    "name": "ipython",
    "version": 3
   },
   "file_extension": ".py",
   "mimetype": "text/x-python",
   "name": "python",
   "nbconvert_exporter": "python",
   "pygments_lexer": "ipython3",
   "version": "3.7.1"
  }
 },
 "nbformat": 4,
 "nbformat_minor": 2
}
