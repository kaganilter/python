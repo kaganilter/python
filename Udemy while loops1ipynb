{
 "cells": [
  {
   "cell_type": "code",
   "execution_count": null,
   "metadata": {},
   "outputs": [],
   "source": [
    "x=0\n",
    "while x<5:\n",
    "    print(f'the current value of x is {x}')\n",
    "    x=x+1  # or you can write as x += 1 \n",
    "else:\n",
    "    print('game over')\n",
    "          "
   ]
  },
  {
   "cell_type": "markdown",
   "metadata": {},
   "source": [
    "BREAK, CONTINUE AND PASS CODES\n",
    "break: breaks the current closest enclosing loop\n",
    "continue: goes to the top of the current loop\n",
    "pass: does nothing but prevents the syntax errors"
   ]
  },
  {
   "cell_type": "code",
   "execution_count": null,
   "metadata": {},
   "outputs": [],
   "source": [
    "samplestring='mynameiskagan'\n",
    "for letter in samplestring:\n",
    "    if letter=='a':\n",
    "        continue # if you dont want to see the letter 'a', you ca use continue\n",
    "    print(letter)"
   ]
  },
  {
   "cell_type": "code",
   "execution_count": null,
   "metadata": {},
   "outputs": [],
   "source": [
    "samplestring='mynameiskagan'\n",
    "for letter in samplestring:\n",
    "    if letter=='a':\n",
    "        break # when the loop comes to the first 'a', it stops executing\n",
    "    print(letter)"
   ]
  },
  {
   "cell_type": "code",
   "execution_count": 3,
   "metadata": {},
   "outputs": [
    {
     "name": "stdout",
     "output_type": "stream",
     "text": [
      "1.5\n",
      "2.0\n",
      "2.5\n",
      "3.0\n",
      "3.5\n",
      "4.0\n",
      "5.0\n",
      "5.5\n",
      "6.0\n",
      "6.5\n"
     ]
    }
   ],
   "source": [
    "# while is similar\n",
    "i=1\n",
    "while i<=6:\n",
    "    i+=0.5\n",
    "    if i==4.5:\n",
    "        continue\n",
    "    print(i)"
   ]
  },
  {
   "cell_type": "code",
   "execution_count": null,
   "metadata": {},
   "outputs": [],
   "source": []
  }
 ],
 "metadata": {
  "kernelspec": {
   "display_name": "Python 3",
   "language": "python",
   "name": "python3"
  },
  "language_info": {
   "codemirror_mode": {
    "name": "ipython",
    "version": 3
   },
   "file_extension": ".py",
   "mimetype": "text/x-python",
   "name": "python",
   "nbconvert_exporter": "python",
   "pygments_lexer": "ipython3",
   "version": "3.7.1"
  }
 },
 "nbformat": 4,
 "nbformat_minor": 2
}
