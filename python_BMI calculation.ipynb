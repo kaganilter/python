{
 "cells": [
  {
   "cell_type": "code",
   "execution_count": null,
   "metadata": {},
   "outputs": [],
   "source": [
    "a=4\n",
    "b=9\n",
    "if a<b:\n",
    "    print(\"a is smaller than b\")"
   ]
  },
  {
   "cell_type": "code",
   "execution_count": null,
   "metadata": {},
   "outputs": [],
   "source": [
    "k=56\n",
    "l=67\n",
    "if k>l:\n",
    "    print(k)\n",
    "else:\n",
    "    print(l)\n",
    "    print(\"cool\")"
   ]
  },
  {
   "cell_type": "code",
   "execution_count": null,
   "metadata": {},
   "outputs": [],
   "source": [
    "a=78\n",
    "b=78\n",
    "if a < b:\n",
    "    print(\"a is smaller than b\")\n",
    "elif a==b:\n",
    "    print(\"a is equal to b\")\n",
    "else:\n",
    "    print (\"a is bigger than b\")"
   ]
  },
  {
   "cell_type": "code",
   "execution_count": 3,
   "metadata": {},
   "outputs": [
    {
     "name": "stdout",
     "output_type": "stream",
     "text": [
      "good\n"
     ]
    }
   ],
   "source": [
    "a=18\n",
    "b=3\n",
    "c=a/b\n",
    "if c > 4:\n",
    "    print(\"good\")\n",
    "else:\n",
    "    if c==3:\n",
    "        print(\"bad\")\n",
    "    else:\n",
    "        print(\"not bad\")"
   ]
  },
  {
   "cell_type": "code",
   "execution_count": 10,
   "metadata": {},
   "outputs": [
    {
     "name": "stdout",
     "output_type": "stream",
     "text": [
      "house economy results:\n",
      "you r at risk\n"
     ]
    }
   ],
   "source": [
    "print(\"house economy results:\")\n",
    "income=2500\n",
    "services=700\n",
    "gas=600\n",
    "rent=1200\n",
    "r=rent\n",
    "i=income\n",
    "s=services\n",
    "g=gas\n",
    "if g+s+r > i:\n",
    "    print(\"work more\")\n",
    "elif g+s+r == i:\n",
    "    print(\"you r at risk\")\n",
    "else:\n",
    "    print(\"good job\")\n"
   ]
  },
  {
   "cell_type": "code",
   "execution_count": 18,
   "metadata": {},
   "outputs": [
    {
     "name": "stdout",
     "output_type": "stream",
     "text": [
      "WELCOME TO BMI HEALTH PROGRAM\n",
      "Turgut\n",
      "your BMI is:\n",
      "23.836734693877553\n",
      "congrats, u r healthy\n"
     ]
    }
   ],
   "source": [
    "print(\"WELCOME TO BMI HEALTH PROGRAM\")\n",
    "name = \"Turgut\"\n",
    "print(name)\n",
    "height_meters = 1.75\n",
    "weight_kilograms = 73\n",
    "bmi = weight_kilograms / (height_meters**2)\n",
    "print (\"your BMI is:\")\n",
    "print(bmi)\n",
    "if bmi < 25:\n",
    "    print(\"congrats, u r healthy\")\n",
    "elif bmi == 25:\n",
    "    print(\"u are at the edge, be careful\")\n",
    "else:\n",
    "    print(\"please see a dietician\")\n"
   ]
  },
  {
   "cell_type": "code",
   "execution_count": null,
   "metadata": {},
   "outputs": [],
   "source": []
  }
 ],
 "metadata": {
  "kernelspec": {
   "display_name": "Python 3",
   "language": "python",
   "name": "python3"
  },
  "language_info": {
   "codemirror_mode": {
    "name": "ipython",
    "version": 3
   },
   "file_extension": ".py",
   "mimetype": "text/x-python",
   "name": "python",
   "nbconvert_exporter": "python",
   "pygments_lexer": "ipython3",
   "version": "3.7.1"
  }
 },
 "nbformat": 4,
 "nbformat_minor": 2
}
