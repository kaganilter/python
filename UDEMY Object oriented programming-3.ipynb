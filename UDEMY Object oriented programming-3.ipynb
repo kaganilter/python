{
 "cells": [
  {
   "cell_type": "markdown",
   "metadata": {},
   "source": [
    "You can create your own methods and attributes by using OOP\n",
    "Class => Objects=> Atrributes\n"
   ]
  },
  {
   "cell_type": "markdown",
   "metadata": {},
   "source": [
    "Understanding self and __init__ method in python Class.\n",
    "Before understanding the \"self\" and \"__init__\" methods in python class, it's very helpful if we have the idea of what is a class and object.\n",
    "\n",
    "Class : \n",
    "\n",
    "Class is a set or category of things having some property or attribute in common and differentiated from others by kind, type, or quality.\n",
    "\n",
    "In technical terms we can say that class is a blue print for individual objects with exact behaviour.\n",
    "\n",
    "Object :\n",
    "\n",
    "object is one of instances of the class. which can perform the functionalities which are defined in the class.\n",
    "\n",
    "self :\n",
    "\n",
    "self represents the instance of the class. By using the \"self\" keyword we can access the attributes and methods of the class in python.\n",
    "\n",
    "__init__ :\n",
    "\n",
    "\"__init__\" is a reseved method in python classes. It is known as a constructor in object oriented concepts. This method called when an object is created from the class and it allow the class to initialize the attributes of a class.\n",
    "\n",
    " \n",
    "\n",
    "How can we use  \"__init__ \" ?\n",
    "\n",
    "Let's consider that you are creating a NFS game. for that we should have a car. Car can have attributes like \"color\", \"company\", \"speed_limit\" etc. and methods like \"change_gear\", \"start\", \"accelarate\", \"move\" etc.\n",
    "\n"
   ]
  },
  {
   "cell_type": "code",
   "execution_count": 2,
   "metadata": {},
   "outputs": [],
   "source": [
    "class Car(object):\n",
    "    \"\"\"\n",
    "        blueprint for car\n",
    "    \"\"\"\n",
    "\n",
    "    def __init__(self, model, color, company, speed_limit):\n",
    "        self.color = color\n",
    "        self.company = company\n",
    "        self.speed_limit = speed_limit\n",
    "        self.model = model\n",
    "\n",
    "    def start(self):\n",
    "        print(\"started\")\n",
    "\n",
    "    def stop(self):\n",
    "        print(\"stopped\")\n",
    "\n",
    "    def accelarate(self):\n",
    "        print(\"accelarating...\")\n",
    "        \"accelarator functionality here\"\n",
    "\n",
    "    def change_gear(self, gear_type):\n",
    "        print(\"gear changed\")\n",
    "        \" gear related functionality here\"\n"
   ]
  },
  {
   "cell_type": "code",
   "execution_count": 4,
   "metadata": {},
   "outputs": [],
   "source": [
    "speedtest= Car('toyota','grey','tytinc','70')"
   ]
  },
  {
   "cell_type": "code",
   "execution_count": 6,
   "metadata": {},
   "outputs": [
    {
     "name": "stdout",
     "output_type": "stream",
     "text": [
      "started\n"
     ]
    }
   ],
   "source": [
    "speedtest.start()"
   ]
  },
  {
   "cell_type": "code",
   "execution_count": 25,
   "metadata": {},
   "outputs": [],
   "source": [
    "#attributes\n",
    "class Robot():\n",
    "    def introduce_self(self):\n",
    "        print('my name is ' + self.name)\n",
    "\n",
    "    "
   ]
  },
  {
   "cell_type": "code",
   "execution_count": null,
   "metadata": {},
   "outputs": [],
   "source": []
  },
  {
   "cell_type": "code",
   "execution_count": 26,
   "metadata": {},
   "outputs": [],
   "source": [
    "s1=Robot()\n",
    "s1.name='tom'\n",
    "s1.color='red'\n",
    "s1.weight= 20"
   ]
  },
  {
   "cell_type": "code",
   "execution_count": 27,
   "metadata": {},
   "outputs": [
    {
     "name": "stdout",
     "output_type": "stream",
     "text": [
      "my name is tom\n"
     ]
    }
   ],
   "source": [
    "s1.introduce_self()"
   ]
  },
  {
   "cell_type": "code",
   "execution_count": null,
   "metadata": {},
   "outputs": [],
   "source": []
  }
 ],
 "metadata": {
  "kernelspec": {
   "display_name": "Python 3",
   "language": "python",
   "name": "python3"
  },
  "language_info": {
   "codemirror_mode": {
    "name": "ipython",
    "version": 3
   },
   "file_extension": ".py",
   "mimetype": "text/x-python",
   "name": "python",
   "nbconvert_exporter": "python",
   "pygments_lexer": "ipython3",
   "version": "3.7.1"
  }
 },
 "nbformat": 4,
 "nbformat_minor": 2
}
