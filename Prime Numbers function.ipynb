{
 "cells": [
  {
   "cell_type": "markdown",
   "metadata": {},
   "source": [
    "COUNT PRIMES: Write a function that returns the number of prime numbers that exist up to and including a given number¶\n",
    "\n",
    "ex: count_primes(5)\n",
    "output: 2"
   ]
  },
  {
   "cell_type": "code",
   "execution_count": 7,
   "metadata": {},
   "outputs": [],
   "source": [
    "# 0 and 1 are not prime, we can check only odd numbers, \n",
    "#checking the division to all numbers are equal to zero is also important\n",
    "\n",
    "def count_primes(nums):\n",
    "    if nums<2:\n",
    "        return 0\n",
    "    x=2\n",
    "    primes=[]\n",
    "    while x<=nums:\n",
    "        for y in range(2,x):\n",
    "            if x%y==0:\n",
    "                x+=1\n",
    "                break\n",
    "        else:\n",
    "            primes.append(x)\n",
    "            x+=1\n",
    "    print(primes)\n",
    "    return len(primes)"
   ]
  },
  {
   "cell_type": "code",
   "execution_count": 9,
   "metadata": {},
   "outputs": [
    {
     "name": "stdout",
     "output_type": "stream",
     "text": [
      "[2, 3, 5, 7, 11, 13, 17, 19, 23, 29]\n"
     ]
    },
    {
     "data": {
      "text/plain": [
       "10"
      ]
     },
     "execution_count": 9,
     "metadata": {},
     "output_type": "execute_result"
    }
   ],
   "source": [
    "count_primes(30)"
   ]
  },
  {
   "cell_type": "code",
   "execution_count": null,
   "metadata": {},
   "outputs": [],
   "source": []
  }
 ],
 "metadata": {
  "kernelspec": {
   "display_name": "Python 3",
   "language": "python",
   "name": "python3"
  }
 },
 "nbformat": 4,
 "nbformat_minor": 2
}
