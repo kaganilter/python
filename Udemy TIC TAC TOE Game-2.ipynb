{
 "cells": [
  {
   "cell_type": "markdown",
   "metadata": {},
   "source": [
    "Create a Tic Tac Toe game. You are free to use any IDE you like.\n",
    "Here are the requirements:\n",
    "\n",
    "2 players should be able to play the game (both sitting at the same computer)\n",
    "The board should be printed out every time a player makes a move\n",
    "You should be able to accept input of the player position and then place a symbol on the board\n"
   ]
  },
  {
   "cell_type": "code",
   "execution_count": 3,
   "metadata": {},
   "outputs": [],
   "source": [
    "from IPython.display import clear_output"
   ]
  },
  {
   "cell_type": "code",
   "execution_count": 28,
   "metadata": {},
   "outputs": [],
   "source": [
    "# creating a board with a function\n",
    "\n",
    "def display_board(box):\n",
    "    clear_output()\n",
    "    print('|',box[0],'|',box[1],'|',box[2],'|')\n",
    "    print('-------------')\n",
    "    print('|',box[3],'|',box[4],'|',box[5],'|')\n",
    "    print('-------------')\n",
    "    print('|',box[6],'|',box[7],'|',box[8],'|')\n"
   ]
  },
  {
   "cell_type": "code",
   "execution_count": 29,
   "metadata": {},
   "outputs": [
    {
     "name": "stdout",
     "output_type": "stream",
     "text": [
      "| 1 | 2 | 3 |\n",
      "-------------\n",
      "| 4 | 5 | 6 |\n",
      "-------------\n",
      "| 7 | 8 | 9 |\n"
     ]
    }
   ],
   "source": [
    "box_test=[1,2,3,4,5,6,7,8,9]\n",
    "display_board(box_test)"
   ]
  },
  {
   "cell_type": "code",
   "execution_count": null,
   "metadata": {},
   "outputs": [],
   "source": [
    "input('who wants to be X')"
   ]
  },
  {
   "cell_type": "code",
   "execution_count": null,
   "metadata": {},
   "outputs": [],
   "source": []
  }
 ],
 "metadata": {
  "kernelspec": {
   "display_name": "Python 3",
   "language": "python",
   "name": "python3"
  },
  "language_info": {
   "codemirror_mode": {
    "name": "ipython",
    "version": 3
   },
   "file_extension": ".py",
   "mimetype": "text/x-python",
   "name": "python",
   "nbconvert_exporter": "python",
   "pygments_lexer": "ipython3",
   "version": "3.7.1"
  }
 },
 "nbformat": 4,
 "nbformat_minor": 2
}
